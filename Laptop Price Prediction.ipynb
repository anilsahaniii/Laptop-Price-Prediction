{
 "cells": [
  {
   "cell_type": "markdown",
   "id": "ff6c06d2",
   "metadata": {},
   "source": [
    "# Objective\n",
    "* We will predict the price of the laptop based on some features"
   ]
  },
  {
   "cell_type": "code",
   "execution_count": 1,
   "id": "f509db8e",
   "metadata": {},
   "outputs": [],
   "source": [
    "# Importing necessary libraries\n",
    "import numpy as np\n",
    "import pandas as pd\n",
    "# Importing plotting libraries \n",
    "import matplotlib.pyplot as plt\n",
    "%matplotlib inline\n",
    "import seaborn as sns\n",
    "import plotly.express as px\n",
    "# Ignoriing warnings\n",
    "import warnings\n",
    "warnings.filterwarnings(\"ignore\")"
   ]
  },
  {
   "cell_type": "code",
   "execution_count": 2,
   "id": "a6cd9979",
   "metadata": {},
   "outputs": [
    {
     "data": {
      "text/html": [
       "<div>\n",
       "<style scoped>\n",
       "    .dataframe tbody tr th:only-of-type {\n",
       "        vertical-align: middle;\n",
       "    }\n",
       "\n",
       "    .dataframe tbody tr th {\n",
       "        vertical-align: top;\n",
       "    }\n",
       "\n",
       "    .dataframe thead th {\n",
       "        text-align: right;\n",
       "    }\n",
       "</style>\n",
       "<table border=\"1\" class=\"dataframe\">\n",
       "  <thead>\n",
       "    <tr style=\"text-align: right;\">\n",
       "      <th></th>\n",
       "      <th>Unnamed: 0</th>\n",
       "      <th>Company</th>\n",
       "      <th>TypeName</th>\n",
       "      <th>Inches</th>\n",
       "      <th>ScreenResolution</th>\n",
       "      <th>Cpu</th>\n",
       "      <th>Ram</th>\n",
       "      <th>Memory</th>\n",
       "      <th>Gpu</th>\n",
       "      <th>OpSys</th>\n",
       "      <th>Weight</th>\n",
       "      <th>Price</th>\n",
       "    </tr>\n",
       "  </thead>\n",
       "  <tbody>\n",
       "    <tr>\n",
       "      <th>0</th>\n",
       "      <td>0</td>\n",
       "      <td>Apple</td>\n",
       "      <td>Ultrabook</td>\n",
       "      <td>13.3</td>\n",
       "      <td>IPS Panel Retina Display 2560x1600</td>\n",
       "      <td>Intel Core i5 2.3GHz</td>\n",
       "      <td>8GB</td>\n",
       "      <td>128GB SSD</td>\n",
       "      <td>Intel Iris Plus Graphics 640</td>\n",
       "      <td>macOS</td>\n",
       "      <td>1.37kg</td>\n",
       "      <td>71378.6832</td>\n",
       "    </tr>\n",
       "    <tr>\n",
       "      <th>1</th>\n",
       "      <td>1</td>\n",
       "      <td>Apple</td>\n",
       "      <td>Ultrabook</td>\n",
       "      <td>13.3</td>\n",
       "      <td>1440x900</td>\n",
       "      <td>Intel Core i5 1.8GHz</td>\n",
       "      <td>8GB</td>\n",
       "      <td>128GB Flash Storage</td>\n",
       "      <td>Intel HD Graphics 6000</td>\n",
       "      <td>macOS</td>\n",
       "      <td>1.34kg</td>\n",
       "      <td>47895.5232</td>\n",
       "    </tr>\n",
       "    <tr>\n",
       "      <th>2</th>\n",
       "      <td>2</td>\n",
       "      <td>HP</td>\n",
       "      <td>Notebook</td>\n",
       "      <td>15.6</td>\n",
       "      <td>Full HD 1920x1080</td>\n",
       "      <td>Intel Core i5 7200U 2.5GHz</td>\n",
       "      <td>8GB</td>\n",
       "      <td>256GB SSD</td>\n",
       "      <td>Intel HD Graphics 620</td>\n",
       "      <td>No OS</td>\n",
       "      <td>1.86kg</td>\n",
       "      <td>30636.0000</td>\n",
       "    </tr>\n",
       "    <tr>\n",
       "      <th>3</th>\n",
       "      <td>3</td>\n",
       "      <td>Apple</td>\n",
       "      <td>Ultrabook</td>\n",
       "      <td>15.4</td>\n",
       "      <td>IPS Panel Retina Display 2880x1800</td>\n",
       "      <td>Intel Core i7 2.7GHz</td>\n",
       "      <td>16GB</td>\n",
       "      <td>512GB SSD</td>\n",
       "      <td>AMD Radeon Pro 455</td>\n",
       "      <td>macOS</td>\n",
       "      <td>1.83kg</td>\n",
       "      <td>135195.3360</td>\n",
       "    </tr>\n",
       "    <tr>\n",
       "      <th>4</th>\n",
       "      <td>4</td>\n",
       "      <td>Apple</td>\n",
       "      <td>Ultrabook</td>\n",
       "      <td>13.3</td>\n",
       "      <td>IPS Panel Retina Display 2560x1600</td>\n",
       "      <td>Intel Core i5 3.1GHz</td>\n",
       "      <td>8GB</td>\n",
       "      <td>256GB SSD</td>\n",
       "      <td>Intel Iris Plus Graphics 650</td>\n",
       "      <td>macOS</td>\n",
       "      <td>1.37kg</td>\n",
       "      <td>96095.8080</td>\n",
       "    </tr>\n",
       "  </tbody>\n",
       "</table>\n",
       "</div>"
      ],
      "text/plain": [
       "   Unnamed: 0 Company   TypeName  Inches                    ScreenResolution  \\\n",
       "0           0   Apple  Ultrabook    13.3  IPS Panel Retina Display 2560x1600   \n",
       "1           1   Apple  Ultrabook    13.3                            1440x900   \n",
       "2           2      HP   Notebook    15.6                   Full HD 1920x1080   \n",
       "3           3   Apple  Ultrabook    15.4  IPS Panel Retina Display 2880x1800   \n",
       "4           4   Apple  Ultrabook    13.3  IPS Panel Retina Display 2560x1600   \n",
       "\n",
       "                          Cpu   Ram               Memory  \\\n",
       "0        Intel Core i5 2.3GHz   8GB            128GB SSD   \n",
       "1        Intel Core i5 1.8GHz   8GB  128GB Flash Storage   \n",
       "2  Intel Core i5 7200U 2.5GHz   8GB            256GB SSD   \n",
       "3        Intel Core i7 2.7GHz  16GB            512GB SSD   \n",
       "4        Intel Core i5 3.1GHz   8GB            256GB SSD   \n",
       "\n",
       "                            Gpu  OpSys  Weight        Price  \n",
       "0  Intel Iris Plus Graphics 640  macOS  1.37kg   71378.6832  \n",
       "1        Intel HD Graphics 6000  macOS  1.34kg   47895.5232  \n",
       "2         Intel HD Graphics 620  No OS  1.86kg   30636.0000  \n",
       "3            AMD Radeon Pro 455  macOS  1.83kg  135195.3360  \n",
       "4  Intel Iris Plus Graphics 650  macOS  1.37kg   96095.8080  "
      ]
     },
     "execution_count": 2,
     "metadata": {},
     "output_type": "execute_result"
    }
   ],
   "source": [
    "# Loading the dataset\n",
    "df = pd.read_csv(\"laptop_data.csv\")\n",
    "df.head() # Displaying first five rows"
   ]
  },
  {
   "cell_type": "code",
   "execution_count": 3,
   "id": "fd6b5932",
   "metadata": {},
   "outputs": [
    {
     "data": {
      "text/plain": [
       "(1303, 12)"
      ]
     },
     "execution_count": 3,
     "metadata": {},
     "output_type": "execute_result"
    }
   ],
   "source": [
    "df.shape # Number of rows and columns"
   ]
  },
  {
   "cell_type": "code",
   "execution_count": 4,
   "id": "30e5d324",
   "metadata": {},
   "outputs": [],
   "source": [
    "# Discarding unnecessary feature\n",
    "df.drop(columns = ['Unnamed: 0'],inplace=True)"
   ]
  },
  {
   "cell_type": "code",
   "execution_count": 5,
   "id": "eb246e63",
   "metadata": {},
   "outputs": [
    {
     "name": "stdout",
     "output_type": "stream",
     "text": [
      "<class 'pandas.core.frame.DataFrame'>\n",
      "RangeIndex: 1303 entries, 0 to 1302\n",
      "Data columns (total 11 columns):\n",
      " #   Column            Non-Null Count  Dtype  \n",
      "---  ------            --------------  -----  \n",
      " 0   Company           1303 non-null   object \n",
      " 1   TypeName          1303 non-null   object \n",
      " 2   Inches            1303 non-null   float64\n",
      " 3   ScreenResolution  1303 non-null   object \n",
      " 4   Cpu               1303 non-null   object \n",
      " 5   Ram               1303 non-null   object \n",
      " 6   Memory            1303 non-null   object \n",
      " 7   Gpu               1303 non-null   object \n",
      " 8   OpSys             1303 non-null   object \n",
      " 9   Weight            1303 non-null   object \n",
      " 10  Price             1303 non-null   float64\n",
      "dtypes: float64(2), object(9)\n",
      "memory usage: 112.1+ KB\n"
     ]
    }
   ],
   "source": [
    "# Summary of dataset\n",
    "df.info()"
   ]
  },
  {
   "cell_type": "markdown",
   "id": "2ae6be06",
   "metadata": {},
   "source": [
    "### Observation :\n",
    "* Dataset contains 1303 rows and 11 columns.\n",
    "* Dataset contains both numerical and categorical features.\n",
    "* Dataset doesn't contain any null values."
   ]
  },
  {
   "cell_type": "code",
   "execution_count": 6,
   "id": "04e48b95",
   "metadata": {},
   "outputs": [
    {
     "data": {
      "text/plain": [
       "29"
      ]
     },
     "execution_count": 6,
     "metadata": {},
     "output_type": "execute_result"
    }
   ],
   "source": [
    "# Checking for total number duplicate rows\n",
    "df.duplicated().sum()"
   ]
  },
  {
   "cell_type": "code",
   "execution_count": 7,
   "id": "2595ff69",
   "metadata": {},
   "outputs": [],
   "source": [
    "# Discarding the duplicate rows\n",
    "df.drop_duplicates(inplace=True)"
   ]
  },
  {
   "cell_type": "code",
   "execution_count": 8,
   "id": "b56729c7",
   "metadata": {},
   "outputs": [
    {
     "data": {
      "text/html": [
       "<div>\n",
       "<style scoped>\n",
       "    .dataframe tbody tr th:only-of-type {\n",
       "        vertical-align: middle;\n",
       "    }\n",
       "\n",
       "    .dataframe tbody tr th {\n",
       "        vertical-align: top;\n",
       "    }\n",
       "\n",
       "    .dataframe thead th {\n",
       "        text-align: right;\n",
       "    }\n",
       "</style>\n",
       "<table border=\"1\" class=\"dataframe\">\n",
       "  <thead>\n",
       "    <tr style=\"text-align: right;\">\n",
       "      <th></th>\n",
       "      <th>Inches</th>\n",
       "      <th>Price</th>\n",
       "    </tr>\n",
       "  </thead>\n",
       "  <tbody>\n",
       "    <tr>\n",
       "      <th>count</th>\n",
       "      <td>1274.000000</td>\n",
       "      <td>1274.000000</td>\n",
       "    </tr>\n",
       "    <tr>\n",
       "      <th>mean</th>\n",
       "      <td>15.022449</td>\n",
       "      <td>60503.185074</td>\n",
       "    </tr>\n",
       "    <tr>\n",
       "      <th>std</th>\n",
       "      <td>1.429940</td>\n",
       "      <td>37333.222977</td>\n",
       "    </tr>\n",
       "    <tr>\n",
       "      <th>min</th>\n",
       "      <td>10.100000</td>\n",
       "      <td>9270.720000</td>\n",
       "    </tr>\n",
       "    <tr>\n",
       "      <th>25%</th>\n",
       "      <td>14.000000</td>\n",
       "      <td>32495.605200</td>\n",
       "    </tr>\n",
       "    <tr>\n",
       "      <th>50%</th>\n",
       "      <td>15.600000</td>\n",
       "      <td>52693.920000</td>\n",
       "    </tr>\n",
       "    <tr>\n",
       "      <th>75%</th>\n",
       "      <td>15.600000</td>\n",
       "      <td>79773.480000</td>\n",
       "    </tr>\n",
       "    <tr>\n",
       "      <th>max</th>\n",
       "      <td>18.400000</td>\n",
       "      <td>324954.720000</td>\n",
       "    </tr>\n",
       "  </tbody>\n",
       "</table>\n",
       "</div>"
      ],
      "text/plain": [
       "            Inches          Price\n",
       "count  1274.000000    1274.000000\n",
       "mean     15.022449   60503.185074\n",
       "std       1.429940   37333.222977\n",
       "min      10.100000    9270.720000\n",
       "25%      14.000000   32495.605200\n",
       "50%      15.600000   52693.920000\n",
       "75%      15.600000   79773.480000\n",
       "max      18.400000  324954.720000"
      ]
     },
     "execution_count": 8,
     "metadata": {},
     "output_type": "execute_result"
    }
   ],
   "source": [
    "# Statistical summary of dataset\n",
    "df.describe() "
   ]
  },
  {
   "cell_type": "markdown",
   "id": "3ed06338",
   "metadata": {},
   "source": [
    "# Data Preprocessing"
   ]
  },
  {
   "cell_type": "code",
   "execution_count": 9,
   "id": "69fd168c",
   "metadata": {},
   "outputs": [],
   "source": [
    "# Removing 'GB' from Ram variable and chaning it's datatype to int\n",
    "df['Ram']=df['Ram'].str.replace('GB','')\n",
    "df['Ram']=df['Ram'].astype(int)"
   ]
  },
  {
   "cell_type": "code",
   "execution_count": 10,
   "id": "9a72e404",
   "metadata": {},
   "outputs": [],
   "source": [
    "# Removing 'kg' from Ram variable and chaning it's datatype to float\n",
    "df['Weight']=df['Weight'].str.replace('kg','')\n",
    "df['Weight'] = df['Weight'].astype(float)"
   ]
  },
  {
   "cell_type": "markdown",
   "id": "d650e92c",
   "metadata": {},
   "source": [
    "#  EDA"
   ]
  },
  {
   "cell_type": "markdown",
   "id": "eb33bb3f",
   "metadata": {},
   "source": [
    "### Exploring Price Variable"
   ]
  },
  {
   "cell_type": "code",
   "execution_count": 11,
   "id": "abb6ecd0",
   "metadata": {},
   "outputs": [
    {
     "data": {
      "text/plain": [
       "count      1274.000000\n",
       "mean      60503.185074\n",
       "std       37333.222977\n",
       "min        9270.720000\n",
       "25%       32495.605200\n",
       "50%       52693.920000\n",
       "75%       79773.480000\n",
       "max      324954.720000\n",
       "Name: Price, dtype: float64"
      ]
     },
     "execution_count": 11,
     "metadata": {},
     "output_type": "execute_result"
    }
   ],
   "source": [
    "df['Price'].describe()"
   ]
  },
  {
   "cell_type": "code",
   "execution_count": 12,
   "id": "ad730955",
   "metadata": {},
   "outputs": [
    {
     "data": {
      "image/png": "[encoded data removed]",
      "text/plain": [
       "<Figure size 640x480 with 1 Axes>"
      ]
     },
     "metadata": {},
     "output_type": "display_data"
    }
   ],
   "source": [
    "# visuazling price variable\n",
    "sns.histplot(x=df['Price'],kde=True);"
   ]
  },
  {
   "cell_type": "markdown",
   "id": "bf09baf0",
   "metadata": {},
   "source": [
    "* Screw Curve"
   ]
  },
  {
   "cell_type": "markdown",
   "id": "7fcf190c",
   "metadata": {},
   "source": [
    "## Exploring Categorical Variables"
   ]
  },
  {
   "cell_type": "code",
   "execution_count": 13,
   "id": "a35cbd99",
   "metadata": {},
   "outputs": [
    {
     "name": "stdout",
     "output_type": "stream",
     "text": [
      "Total Number of categorical variables are 7\n",
      "\n",
      "The Categorical Variables are: ['Company', 'TypeName', 'ScreenResolution', 'Cpu', 'Memory', 'Gpu', 'OpSys']\n"
     ]
    }
   ],
   "source": [
    "# Finding Categorical Variables\n",
    "categorical_variables = [var for var in df.columns if df[var].dtype =='O' ]\n",
    "print(f\"Total Number of categorical variables are {len(categorical_variables)}\\n\")\n",
    "print(f\"The Categorical Variables are: {categorical_variables}\")"
   ]
  },
  {
   "cell_type": "code",
   "execution_count": 14,
   "id": "f66152d2",
   "metadata": {},
   "outputs": [
    {
     "name": "stdout",
     "output_type": "stream",
     "text": [
      "Company contains 19 lables \n",
      "TypeName contains 6 lables \n",
      "ScreenResolution contains 40 lables \n",
      "Cpu contains 118 lables \n",
      "Memory contains 39 lables \n",
      "Gpu contains 110 lables \n",
      "OpSys contains 9 lables \n"
     ]
    }
   ],
   "source": [
    "#Finding Cardinality for each variable: Number of labels\n",
    "for var in categorical_variables:\n",
    "    print(f\"{var} contains {len(df[var].unique())} lables \")\n",
    "    "
   ]
  },
  {
   "cell_type": "markdown",
   "id": "f4d03876",
   "metadata": {},
   "source": [
    "## Exploring Categorical Variables one by one\n",
    "### Exploring *Company* Variable"
   ]
  },
  {
   "cell_type": "code",
   "execution_count": 15,
   "id": "47bcdc1d",
   "metadata": {},
   "outputs": [
    {
     "name": "stdout",
     "output_type": "stream",
     "text": [
      "['Apple' 'HP' 'Acer' 'Asus' 'Dell' 'Lenovo' 'Chuwi' 'MSI' 'Microsoft'\n",
      " 'Toshiba' 'Huawei' 'Xiaomi' 'Vero' 'Razer' 'Mediacom' 'Samsung' 'Google'\n",
      " 'Fujitsu' 'LG']\n"
     ]
    }
   ],
   "source": [
    "#checking Labels in Company Variable\n",
    "print(df['Company'].unique())"
   ]
  },
  {
   "cell_type": "markdown",
   "id": "da3e0194",
   "metadata": {},
   "source": [
    "### Frequency distribution of values in company variable"
   ]
  },
  {
   "cell_type": "code",
   "execution_count": 16,
   "id": "6bca8bf1",
   "metadata": {},
   "outputs": [
    {
     "data": {
      "text/plain": [
       "Dell         291\n",
       "Lenovo       289\n",
       "HP           268\n",
       "Asus         151\n",
       "Acer         101\n",
       "MSI           54\n",
       "Toshiba       48\n",
       "Apple         21\n",
       "Samsung        9\n",
       "Razer          7\n",
       "Mediacom       7\n",
       "Microsoft      6\n",
       "Xiaomi         4\n",
       "Vero           4\n",
       "Chuwi          3\n",
       "Google         3\n",
       "Fujitsu        3\n",
       "LG             3\n",
       "Huawei         2\n",
       "Name: Company, dtype: int64"
      ]
     },
     "execution_count": 16,
     "metadata": {},
     "output_type": "execute_result"
    }
   ],
   "source": [
    "df['Company'].value_counts()"
   ]
  },
  {
   "cell_type": "markdown",
   "id": "1b91b90b",
   "metadata": {},
   "source": [
    "### Visualizing frequency distribution of company variable"
   ]
  },
  {
   "cell_type": "code",
   "execution_count": 17,
   "id": "1b854187",
   "metadata": {},
   "outputs": [
    {
     "data": {
      "text/plain": [
       "<AxesSubplot:>"
      ]
     },
     "execution_count": 17,
     "metadata": {},
     "output_type": "execute_result"
    },
    {
     "data": {
      "image/png": "[encoded data removed]",
      "text/plain": [
       "<Figure size 640x480 with 1 Axes>"
      ]
     },
     "metadata": {},
     "output_type": "display_data"
    }
   ],
   "source": [
    "df['Company'].value_counts().plot(kind='bar')"
   ]
  },
  {
   "cell_type": "markdown",
   "id": "07c7f52e",
   "metadata": {},
   "source": [
    "* Dell, Lenovo, HP company laptops are available in large quantity than others"
   ]
  },
  {
   "cell_type": "markdown",
   "id": "37ecc1fe",
   "metadata": {},
   "source": [
    "### Visualization of average price vs Company"
   ]
  },
  {
   "cell_type": "code",
   "execution_count": 18,
   "id": "2a56d863",
   "metadata": {},
   "outputs": [
    {
     "data": {
      "image/png": "[encoded data removed]",
      "text/plain": [
       "<Figure size 640x480 with 1 Axes>"
      ]
     },
     "metadata": {},
     "output_type": "display_data"
    }
   ],
   "source": [
    "sns.barplot(x=df['Company'],y=df['Price'])\n",
    "plt.xticks(rotation='vertical')\n",
    "plt.show()"
   ]
  },
  {
   "cell_type": "markdown",
   "id": "7da6208b",
   "metadata": {},
   "source": [
    "## Exploring *TypeName* variable"
   ]
  },
  {
   "cell_type": "code",
   "execution_count": 19,
   "id": "d5c754b4",
   "metadata": {},
   "outputs": [
    {
     "name": "stdout",
     "output_type": "stream",
     "text": [
      "TypeName contains 6 lables\n",
      "\n",
      "The labels in TypeName variable are: ['Ultrabook' 'Notebook' 'Netbook' 'Gaming' '2 in 1 Convertible'\n",
      " 'Workstation']\n"
     ]
    }
   ],
   "source": [
    "print(f\"TypeName contains {len(df['TypeName'].unique())} lables\\n\")\n",
    "print(f\"The labels in TypeName variable are: {df['TypeName'].unique()}\")"
   ]
  },
  {
   "cell_type": "markdown",
   "id": "aa70daf5",
   "metadata": {},
   "source": [
    "### Frequency distribution of values in *TypeName* Variable"
   ]
  },
  {
   "cell_type": "code",
   "execution_count": 20,
   "id": "fba4de97",
   "metadata": {},
   "outputs": [
    {
     "data": {
      "text/plain": [
       "Notebook              706\n",
       "Gaming                205\n",
       "Ultrabook             194\n",
       "2 in 1 Convertible    117\n",
       "Workstation            29\n",
       "Netbook                23\n",
       "Name: TypeName, dtype: int64"
      ]
     },
     "execution_count": 20,
     "metadata": {},
     "output_type": "execute_result"
    }
   ],
   "source": [
    "df.TypeName.value_counts()"
   ]
  },
  {
   "cell_type": "markdown",
   "id": "16a0d706",
   "metadata": {},
   "source": [
    "### Visualizing frequency ditributuion of values in Typename variable"
   ]
  },
  {
   "cell_type": "code",
   "execution_count": 21,
   "id": "838f3bb3",
   "metadata": {},
   "outputs": [
    {
     "data": {
      "image/png": "[encoded data removed]",
      "text/plain": [
       "<Figure size 640x480 with 1 Axes>"
      ]
     },
     "metadata": {},
     "output_type": "display_data"
    }
   ],
   "source": [
    "df['TypeName'].value_counts().plot(kind='bar');"
   ]
  },
  {
   "cell_type": "markdown",
   "id": "0fe7dd91",
   "metadata": {},
   "source": [
    "* Notebook type are mostly sold compare to other types"
   ]
  },
  {
   "cell_type": "markdown",
   "id": "dde27b9e",
   "metadata": {},
   "source": [
    "### Visulazing average price of every label in typename variable"
   ]
  },
  {
   "cell_type": "code",
   "execution_count": 22,
   "id": "a59370cd",
   "metadata": {},
   "outputs": [
    {
     "data": {
      "image/png": "[encoded data removed]",
      "text/plain": [
       "<Figure size 640x480 with 1 Axes>"
      ]
     },
     "metadata": {},
     "output_type": "display_data"
    }
   ],
   "source": [
    "sns.barplot(x=df['TypeName'],y=df['Price'])\n",
    "plt.xticks(rotation='vertical')\n",
    "plt.show()"
   ]
  },
  {
   "cell_type": "markdown",
   "id": "372dff54",
   "metadata": {},
   "source": [
    "### Observation\n",
    "    Prices vary based on TypeName"
   ]
  },
  {
   "cell_type": "markdown",
   "id": "db78bc40",
   "metadata": {},
   "source": [
    "## Exploring *ScreenResolution* Variable"
   ]
  },
  {
   "cell_type": "markdown",
   "id": "ea2aca33",
   "metadata": {},
   "source": [
    "### Frequency distribution of values in ScreenResolution"
   ]
  },
  {
   "cell_type": "code",
   "execution_count": 23,
   "id": "7179401b",
   "metadata": {},
   "outputs": [
    {
     "data": {
      "text/plain": [
       "Full HD 1920x1080                                505\n",
       "1366x768                                         262\n",
       "IPS Panel Full HD 1920x1080                      226\n",
       "IPS Panel Full HD / Touchscreen 1920x1080         51\n",
       "Full HD / Touchscreen 1920x1080                   47\n",
       "1600x900                                          23\n",
       "Touchscreen 1366x768                              16\n",
       "Quad HD+ / Touchscreen 3200x1800                  15\n",
       "IPS Panel 4K Ultra HD 3840x2160                   12\n",
       "IPS Panel 4K Ultra HD / Touchscreen 3840x2160     11\n",
       "4K Ultra HD / Touchscreen 3840x2160               10\n",
       "4K Ultra HD 3840x2160                              7\n",
       "Touchscreen 2560x1440                              7\n",
       "IPS Panel 1366x768                                 7\n",
       "IPS Panel Retina Display 2560x1600                 6\n",
       "IPS Panel Retina Display 2304x1440                 6\n",
       "Touchscreen 2256x1504                              6\n",
       "IPS Panel Touchscreen 2560x1440                    5\n",
       "IPS Panel Quad HD+ / Touchscreen 3200x1800         4\n",
       "IPS Panel Touchscreen 1920x1200                    4\n",
       "1440x900                                           4\n",
       "IPS Panel Retina Display 2880x1800                 4\n",
       "IPS Panel 2560x1440                                4\n",
       "2560x1440                                          3\n",
       "Quad HD+ 3200x1800                                 3\n",
       "1920x1080                                          3\n",
       "Touchscreen 2400x1600                              3\n",
       "IPS Panel Quad HD+ 2560x1440                       3\n",
       "IPS Panel Touchscreen 1366x768                     3\n",
       "IPS Panel Touchscreen / 4K Ultra HD 3840x2160      2\n",
       "IPS Panel Full HD 2160x1440                        2\n",
       "IPS Panel Quad HD+ 3200x1800                       2\n",
       "IPS Panel Retina Display 2736x1824                 1\n",
       "IPS Panel Full HD 1920x1200                        1\n",
       "IPS Panel Full HD 2560x1440                        1\n",
       "IPS Panel Full HD 1366x768                         1\n",
       "Touchscreen / Full HD 1920x1080                    1\n",
       "Touchscreen / Quad HD+ 3200x1800                   1\n",
       "Touchscreen / 4K Ultra HD 3840x2160                1\n",
       "IPS Panel Touchscreen 2400x1600                    1\n",
       "Name: ScreenResolution, dtype: int64"
      ]
     },
     "execution_count": 23,
     "metadata": {},
     "output_type": "execute_result"
    }
   ],
   "source": [
    "df.ScreenResolution.value_counts()"
   ]
  },
  {
   "cell_type": "markdown",
   "id": "4ba91ded",
   "metadata": {},
   "source": [
    "## Feature engineering on ScreenResolution variable\n",
    "We can notice that there are some information in this variable from which we can extract some new variables like if laptop is touchsceen or not, it has ips panel or not etc and store in new variable"
   ]
  },
  {
   "cell_type": "markdown",
   "id": "e2bee463",
   "metadata": {},
   "source": [
    "### Extracting if laptop is touch screen or not from screen resolution"
   ]
  },
  {
   "cell_type": "code",
   "execution_count": 24,
   "id": "e25d6017",
   "metadata": {},
   "outputs": [],
   "source": [
    "df['Touchscreen']=df['ScreenResolution'].apply(lambda x:1 if 'Touchscreen' in x else 0)"
   ]
  },
  {
   "cell_type": "markdown",
   "id": "a0b743b0",
   "metadata": {},
   "source": [
    "### Extracting if laptop has IPS Panel or not from screen resolution"
   ]
  },
  {
   "cell_type": "code",
   "execution_count": 25,
   "id": "c8135c45",
   "metadata": {},
   "outputs": [],
   "source": [
    "df['Ips Panel']=df['ScreenResolution'].apply(lambda x:1 if 'IPS Panel' in x else 0)"
   ]
  },
  {
   "cell_type": "markdown",
   "id": "a4bbb022",
   "metadata": {},
   "source": [
    "### Extracting Resolution from screen resolution "
   ]
  },
  {
   "cell_type": "code",
   "execution_count": 26,
   "id": "a879b071",
   "metadata": {},
   "outputs": [],
   "source": [
    "#Storing X resolution\n",
    "df['x_resolution']=df['ScreenResolution'].str.split(' ').str[-1].str.split('x').str[0]"
   ]
  },
  {
   "cell_type": "code",
   "execution_count": 27,
   "id": "1b279469",
   "metadata": {},
   "outputs": [],
   "source": [
    "#storing Y resolution\n",
    "df['y_resolution']=df['ScreenResolution'].str.split(' ').str[-1].str.split('x').str[-1]"
   ]
  },
  {
   "cell_type": "code",
   "execution_count": 28,
   "id": "d5984e58",
   "metadata": {},
   "outputs": [],
   "source": [
    "#chaning dtype of both x resol and y res to int\n",
    "df['y_resolution']=df['y_resolution'].astype(int)\n",
    "df['x_resolution']=df['x_resolution'].astype(int)"
   ]
  },
  {
   "cell_type": "markdown",
   "id": "f244adcc",
   "metadata": {},
   "source": [
    "### Deleting the ScreenResolution variable"
   ]
  },
  {
   "cell_type": "code",
   "execution_count": 29,
   "id": "18ce468c",
   "metadata": {},
   "outputs": [],
   "source": [
    "df.drop(columns=['ScreenResolution'],inplace=True)"
   ]
  },
  {
   "cell_type": "markdown",
   "id": "b64c71d1",
   "metadata": {},
   "source": [
    "## Exploring *CPU* variable"
   ]
  },
  {
   "cell_type": "markdown",
   "id": "116a262f",
   "metadata": {},
   "source": [
    "### Frquency distribution of values in Cpu"
   ]
  },
  {
   "cell_type": "code",
   "execution_count": 30,
   "id": "0b7321bb",
   "metadata": {},
   "outputs": [
    {
     "data": {
      "text/plain": [
       "Intel Core i5 7200U 2.5GHz     190\n",
       "Intel Core i7 7700HQ 2.8GHz    146\n",
       "Intel Core i7 7500U 2.7GHz     132\n",
       "Intel Core i7 8550U 1.8GHz      73\n",
       "Intel Core i5 8250U 1.6GHz      72\n",
       "                              ... \n",
       "Intel Core M M3-6Y30 0.9GHz      1\n",
       "AMD A9-Series 9420 2.9GHz        1\n",
       "Intel Core i5 2.9GHz             1\n",
       "AMD A6-Series 7310 2GHz          1\n",
       "AMD A9-Series 9410 2.9GHz        1\n",
       "Name: Cpu, Length: 118, dtype: int64"
      ]
     },
     "execution_count": 30,
     "metadata": {},
     "output_type": "execute_result"
    }
   ],
   "source": [
    "df['Cpu'].value_counts()"
   ]
  },
  {
   "cell_type": "markdown",
   "id": "7afa5ffc",
   "metadata": {},
   "source": [
    "## Feature engineering on *'cpu'* variable"
   ]
  },
  {
   "cell_type": "markdown",
   "id": "a45a0398",
   "metadata": {},
   "source": [
    "### Extracting core processor types in one variale"
   ]
  },
  {
   "cell_type": "code",
   "execution_count": 31,
   "id": "39d94b10",
   "metadata": {},
   "outputs": [],
   "source": [
    "df['Cpu_Type']=df['Cpu'].str.split(' ').str[0:3].str.join(' ')"
   ]
  },
  {
   "cell_type": "markdown",
   "id": "bf9b4716",
   "metadata": {},
   "source": [
    "### From the Cpu type column we will extract 5 categorical values and will store in new column"
   ]
  },
  {
   "cell_type": "code",
   "execution_count": 32,
   "id": "9b241654",
   "metadata": {},
   "outputs": [],
   "source": [
    "### Creating a function which will fetch the cpu type\n",
    "def fetch_cpu(text):\n",
    "    if text == 'Intel Core i5' or text=='Intel Core i7' or text=='Intel Core i3':\n",
    "        return text\n",
    "    else:\n",
    "        if text.split(' ')[0] == 'Intel':\n",
    "            return 'Other Inter processor'\n",
    "        else:\n",
    "            return 'AMD Processor'"
   ]
  },
  {
   "cell_type": "code",
   "execution_count": 33,
   "id": "636bb74b",
   "metadata": {},
   "outputs": [],
   "source": [
    "df['Cpu_Brand']=df['Cpu_Type'].apply(fetch_cpu)"
   ]
  },
  {
   "cell_type": "code",
   "execution_count": 34,
   "id": "b418c62d",
   "metadata": {},
   "outputs": [
    {
     "data": {
      "text/plain": [
       "array(['Intel Core i5', 'Intel Core i7', 'AMD Processor', 'Intel Core i3',\n",
       "       'Other Inter processor'], dtype=object)"
      ]
     },
     "execution_count": 34,
     "metadata": {},
     "output_type": "execute_result"
    }
   ],
   "source": [
    "df['Cpu_Brand'].unique()"
   ]
  },
  {
   "cell_type": "markdown",
   "id": "cbe1b16d",
   "metadata": {},
   "source": [
    "### Drop the Cpu and Cpu type column"
   ]
  },
  {
   "cell_type": "code",
   "execution_count": 35,
   "id": "ed240e29",
   "metadata": {},
   "outputs": [],
   "source": [
    "df.drop(columns=['Cpu','Cpu_Type'],inplace=True)"
   ]
  },
  {
   "cell_type": "markdown",
   "id": "1d665e13",
   "metadata": {},
   "source": [
    "### Exploring the Cpu Brand variable"
   ]
  },
  {
   "cell_type": "code",
   "execution_count": 36,
   "id": "1de136b1",
   "metadata": {},
   "outputs": [
    {
     "data": {
      "text/plain": [
       "Intel Core i7            515\n",
       "Intel Core i5            423\n",
       "Other Inter processor    141\n",
       "Intel Core i3            134\n",
       "AMD Processor             61\n",
       "Name: Cpu_Brand, dtype: int64"
      ]
     },
     "execution_count": 36,
     "metadata": {},
     "output_type": "execute_result"
    }
   ],
   "source": [
    "# Frequency distribution of values in Cpu brand\n",
    "df['Cpu_Brand'].value_counts()"
   ]
  },
  {
   "cell_type": "code",
   "execution_count": 37,
   "id": "d6763fa6",
   "metadata": {},
   "outputs": [
    {
     "data": {
      "image/png": "[encoded data removed]",
      "text/plain": [
       "<Figure size 640x480 with 1 Axes>"
      ]
     },
     "metadata": {},
     "output_type": "display_data"
    }
   ],
   "source": [
    "# Visualization of Cpu brand\n",
    "sns.countplot(df['Cpu_Brand'])\n",
    "plt.xticks(rotation='vertical')\n",
    "plt.show()"
   ]
  },
  {
   "cell_type": "markdown",
   "id": "10078c56",
   "metadata": {},
   "source": [
    "*  i7 and i5 processor are available in more numbers as compared to others"
   ]
  },
  {
   "cell_type": "markdown",
   "id": "236dfbaf",
   "metadata": {},
   "source": [
    "### Visualization of average price of diffrent cpu brands"
   ]
  },
  {
   "cell_type": "code",
   "execution_count": 38,
   "id": "db001cc4",
   "metadata": {},
   "outputs": [
    {
     "data": {
      "text/plain": [
       "<AxesSubplot:xlabel='Cpu_Brand', ylabel='Price'>"
      ]
     },
     "execution_count": 38,
     "metadata": {},
     "output_type": "execute_result"
    },
    {
     "data": {
      "image/png": "[encoded data removed]",
      "text/plain": [
       "<Figure size 640x480 with 1 Axes>"
      ]
     },
     "metadata": {},
     "output_type": "display_data"
    }
   ],
   "source": [
    "sns.barplot(x=df['Cpu_Brand'],y=df['Price'])"
   ]
  },
  {
   "cell_type": "markdown",
   "id": "b9aaa242",
   "metadata": {},
   "source": [
    "* Average price of intel core i7 and i5 are more as compared to others"
   ]
  },
  {
   "cell_type": "markdown",
   "id": "a76e736d",
   "metadata": {},
   "source": [
    "## Exploring *Memory* Variable"
   ]
  },
  {
   "cell_type": "code",
   "execution_count": 39,
   "id": "0ac029fa",
   "metadata": {},
   "outputs": [
    {
     "data": {
      "text/plain": [
       "array(['128GB SSD', '128GB Flash Storage', '256GB SSD', '512GB SSD',\n",
       "       '500GB HDD', '256GB Flash Storage', '1TB HDD',\n",
       "       '32GB Flash Storage', '128GB SSD +  1TB HDD',\n",
       "       '256GB SSD +  256GB SSD', '64GB Flash Storage',\n",
       "       '256GB SSD +  1TB HDD', '256GB SSD +  2TB HDD', '32GB SSD',\n",
       "       '2TB HDD', '64GB SSD', '1.0TB Hybrid', '512GB SSD +  1TB HDD',\n",
       "       '1TB SSD', '256GB SSD +  500GB HDD', '128GB SSD +  2TB HDD',\n",
       "       '512GB SSD +  512GB SSD', '16GB SSD', '16GB Flash Storage',\n",
       "       '512GB SSD +  256GB SSD', '512GB SSD +  2TB HDD',\n",
       "       '64GB Flash Storage +  1TB HDD', '180GB SSD', '1TB HDD +  1TB HDD',\n",
       "       '32GB HDD', '1TB SSD +  1TB HDD', '512GB Flash Storage',\n",
       "       '128GB HDD', '240GB SSD', '8GB SSD', '508GB Hybrid', '1.0TB HDD',\n",
       "       '512GB SSD +  1.0TB Hybrid', '256GB SSD +  1.0TB Hybrid'],\n",
       "      dtype=object)"
      ]
     },
     "execution_count": 39,
     "metadata": {},
     "output_type": "execute_result"
    }
   ],
   "source": [
    "#lables in memory variable\n",
    "df['Memory'].unique()"
   ]
  },
  {
   "cell_type": "markdown",
   "id": "537abd14",
   "metadata": {},
   "source": [
    "* We can extrac some features using feature engineering."
   ]
  },
  {
   "cell_type": "markdown",
   "id": "b413bf16",
   "metadata": {},
   "source": [
    "## Feature engineering on  Memory variable"
   ]
  },
  {
   "cell_type": "markdown",
   "id": "50612219",
   "metadata": {},
   "source": [
    "### Creating new column SSD that will store memory size of SSD type storage"
   ]
  },
  {
   "cell_type": "code",
   "execution_count": 40,
   "id": "535f4bcc",
   "metadata": {},
   "outputs": [],
   "source": [
    "df['SSD']=df['Memory'].apply(lambda x : x.split('SSD')[0].replace('GB','').replace(\"TB\",'000') if 'SSD' in x else 0)"
   ]
  },
  {
   "cell_type": "markdown",
   "id": "bc672a6a",
   "metadata": {},
   "source": [
    "### Creating new column HDD that will store memory size of HDD type storage"
   ]
  },
  {
   "cell_type": "code",
   "execution_count": 41,
   "id": "6b665abe",
   "metadata": {},
   "outputs": [],
   "source": [
    "df['HDD']=df['Memory'].apply(lambda x: x.split('HDD')[0].replace('GB','').replace('TB','000') if 'HDD' in x else 0)\n",
    "df['HDD']=df['HDD'].apply(lambda x:str(x).split()[-1] if 'Flash Storage' or 'SSD' in str(x) else str(x))\n",
    "df['HDD']=df['HDD'].apply(lambda x:x.replace('1.0000','1000'))"
   ]
  },
  {
   "cell_type": "markdown",
   "id": "ead82829",
   "metadata": {},
   "source": [
    "### Create new variable that will store flash memory"
   ]
  },
  {
   "cell_type": "code",
   "execution_count": 42,
   "id": "332642c6",
   "metadata": {},
   "outputs": [],
   "source": [
    "df['Flash Storage']=df.Memory.apply(lambda x: x.split('Flash Storage')[0].replace('GB','').replace('TB','000') if 'Flash Storage' in x else 0)"
   ]
  },
  {
   "cell_type": "markdown",
   "id": "f401cc88",
   "metadata": {},
   "source": [
    "### Creating new column *Hybrid* that will store hybrid memory size"
   ]
  },
  {
   "cell_type": "code",
   "execution_count": 43,
   "id": "881baeee",
   "metadata": {},
   "outputs": [],
   "source": [
    "df['Hybrid'] = df.Memory.apply(lambda x:x.split('Hybrid')[0].replace('GB','') if 'Hybrid' in x else 0)"
   ]
  },
  {
   "cell_type": "code",
   "execution_count": 44,
   "id": "56da6f1d",
   "metadata": {},
   "outputs": [],
   "source": [
    "df['Hybrid']=df['Hybrid'].apply(lambda x: str(x).split()[-1] if 'SSD' in str(x) else str(x))"
   ]
  },
  {
   "cell_type": "code",
   "execution_count": 45,
   "id": "80e0b99f",
   "metadata": {},
   "outputs": [],
   "source": [
    "df['Hybrid']=df.Hybrid.apply(lambda x : x.replace('TB','').replace('1.0','1000'))"
   ]
  },
  {
   "cell_type": "markdown",
   "id": "7774100e",
   "metadata": {},
   "source": [
    "### Changing dtype of all new variable to int and droping the *Memory* variable"
   ]
  },
  {
   "cell_type": "code",
   "execution_count": 46,
   "id": "60f98640",
   "metadata": {},
   "outputs": [],
   "source": [
    "df['SSD'] = df['SSD'].astype(int)\n",
    "df['HDD'] = df['HDD'].astype(int)\n",
    "df['Flash Storage'] = df['Flash Storage'].astype(int)\n",
    "df['Hybrid'] = df['Hybrid'].astype(int)\n",
    "df.drop(columns=['Memory'],inplace=True)"
   ]
  },
  {
   "cell_type": "markdown",
   "id": "a7338870",
   "metadata": {},
   "source": [
    "### Exploring *GPU* feature\n",
    "* Checking for all unique values in 'GPU' and it's frequency distribution"
   ]
  },
  {
   "cell_type": "code",
   "execution_count": 47,
   "id": "8b758f63",
   "metadata": {},
   "outputs": [
    {
     "data": {
      "text/plain": [
       "Intel HD Graphics 620      279\n",
       "Intel HD Graphics 520      181\n",
       "Intel UHD Graphics 620      68\n",
       "Nvidia GeForce GTX 1050     66\n",
       "Nvidia GeForce GTX 1060     48\n",
       "                          ... \n",
       "AMD Radeon R5 520            1\n",
       "AMD Radeon R7                1\n",
       "Intel HD Graphics 540        1\n",
       "AMD Radeon 540               1\n",
       "ARM Mali T860 MP4            1\n",
       "Name: Gpu, Length: 110, dtype: int64"
      ]
     },
     "execution_count": 47,
     "metadata": {},
     "output_type": "execute_result"
    }
   ],
   "source": [
    "df['Gpu'].value_counts()"
   ]
  },
  {
   "cell_type": "code",
   "execution_count": 48,
   "id": "cee188bb",
   "metadata": {},
   "outputs": [
    {
     "data": {
      "text/plain": [
       "array(['Intel Iris Plus Graphics 640', 'Intel HD Graphics 6000',\n",
       "       'Intel HD Graphics 620', 'AMD Radeon Pro 455',\n",
       "       'Intel Iris Plus Graphics 650', 'AMD Radeon R5',\n",
       "       'Intel Iris Pro Graphics', 'Nvidia GeForce MX150',\n",
       "       'Intel UHD Graphics 620', 'Intel HD Graphics 520',\n",
       "       'AMD Radeon Pro 555', 'AMD Radeon R5 M430',\n",
       "       'Intel HD Graphics 615', 'AMD Radeon Pro 560',\n",
       "       'Nvidia GeForce 940MX', 'Intel HD Graphics 400',\n",
       "       'Nvidia GeForce GTX 1050', 'AMD Radeon R2', 'AMD Radeon 530',\n",
       "       'Nvidia GeForce 930MX', 'Intel HD Graphics',\n",
       "       'Intel HD Graphics 500', 'Nvidia GeForce 930MX ',\n",
       "       'Nvidia GeForce GTX 1060', 'Nvidia GeForce 150MX',\n",
       "       'Intel Iris Graphics 540', 'AMD Radeon RX 580',\n",
       "       'Nvidia GeForce 920MX', 'AMD Radeon R4 Graphics', 'AMD Radeon 520',\n",
       "       'Nvidia GeForce GTX 1070', 'Nvidia GeForce GTX 1050 Ti',\n",
       "       'Nvidia GeForce MX130', 'AMD R4 Graphics',\n",
       "       'Nvidia GeForce GTX 940MX', 'AMD Radeon RX 560',\n",
       "       'Nvidia GeForce 920M', 'AMD Radeon R7 M445', 'AMD Radeon RX 550',\n",
       "       'Nvidia GeForce GTX 1050M', 'Intel HD Graphics 515',\n",
       "       'AMD Radeon R5 M420', 'Intel HD Graphics 505',\n",
       "       'Nvidia GTX 980 SLI', 'AMD R17M-M1-70', 'Nvidia GeForce GTX 1080',\n",
       "       'Nvidia Quadro M1200', 'Nvidia GeForce 920MX ',\n",
       "       'Nvidia GeForce GTX 950M', 'AMD FirePro W4190M ',\n",
       "       'Nvidia GeForce GTX 980M', 'Intel Iris Graphics 550',\n",
       "       'Nvidia GeForce 930M', 'Intel HD Graphics 630',\n",
       "       'AMD Radeon R5 430', 'Nvidia GeForce GTX 940M',\n",
       "       'Intel HD Graphics 510', 'Intel HD Graphics 405',\n",
       "       'AMD Radeon RX 540', 'Nvidia GeForce GT 940MX',\n",
       "       'AMD FirePro W5130M', 'Nvidia Quadro M2200M', 'AMD Radeon R4',\n",
       "       'Nvidia Quadro M620', 'AMD Radeon R7 M460',\n",
       "       'Intel HD Graphics 530', 'Nvidia GeForce GTX 965M',\n",
       "       'Nvidia GeForce GTX1080', 'Nvidia GeForce GTX1050 Ti',\n",
       "       'Nvidia GeForce GTX 960M', 'AMD Radeon R2 Graphics',\n",
       "       'Nvidia Quadro M620M', 'Nvidia GeForce GTX 970M',\n",
       "       'Nvidia GeForce GTX 960<U+039C>', 'Intel Graphics 620',\n",
       "       'Nvidia GeForce GTX 960', 'AMD Radeon R5 520',\n",
       "       'AMD Radeon R7 M440', 'AMD Radeon R7', 'Nvidia Quadro M520M',\n",
       "       'Nvidia Quadro M2200', 'Nvidia Quadro M2000M',\n",
       "       'Intel HD Graphics 540', 'Nvidia Quadro M1000M', 'AMD Radeon 540',\n",
       "       'Nvidia GeForce GTX 1070M', 'Nvidia GeForce GTX1060',\n",
       "       'Intel HD Graphics 5300', 'AMD Radeon R5 M420X',\n",
       "       'AMD Radeon R7 Graphics', 'Nvidia GeForce 920',\n",
       "       'Nvidia GeForce 940M', 'Nvidia GeForce GTX 930MX',\n",
       "       'AMD Radeon R7 M465', 'AMD Radeon R3', 'Nvidia GeForce GTX 1050Ti',\n",
       "       'AMD Radeon R7 M365X', 'AMD Radeon R9 M385',\n",
       "       'Intel HD Graphics 620 ', 'Nvidia Quadro 3000M',\n",
       "       'Nvidia GeForce GTX 980 ', 'AMD Radeon R5 M330',\n",
       "       'AMD FirePro W4190M', 'AMD FirePro W6150M', 'AMD Radeon R5 M315',\n",
       "       'Nvidia Quadro M500M', 'AMD Radeon R7 M360',\n",
       "       'Nvidia Quadro M3000M', 'Nvidia GeForce 960M', 'ARM Mali T860 MP4'],\n",
       "      dtype=object)"
      ]
     },
     "execution_count": 48,
     "metadata": {},
     "output_type": "execute_result"
    }
   ],
   "source": [
    "df['Gpu'].unique()"
   ]
  },
  {
   "cell_type": "markdown",
   "id": "a19f4c35",
   "metadata": {},
   "source": [
    "* There are many categories present, we can reduce it to three using a function from 'gpu' variable.\n",
    "    - Intel ,Nvidia and AMD "
   ]
  },
  {
   "cell_type": "markdown",
   "id": "87249a24",
   "metadata": {},
   "source": [
    "### Creating a function which will extract"
   ]
  },
  {
   "cell_type": "code",
   "execution_count": 49,
   "id": "435a06ce",
   "metadata": {},
   "outputs": [],
   "source": [
    "def fetch_gpu(string):\n",
    "    if 'Intel' in string:\n",
    "        return 'Intel'\n",
    "    elif 'Nvidia' in string:\n",
    "        return 'Nvidia'\n",
    "    else:\n",
    "        return 'AMD'"
   ]
  },
  {
   "cell_type": "code",
   "execution_count": 50,
   "id": "f343ece7",
   "metadata": {},
   "outputs": [],
   "source": [
    "#applying the function in Gpu variable\n",
    "df['Gpu']=df['Gpu'].apply(fetch_gpu)"
   ]
  },
  {
   "cell_type": "markdown",
   "id": "92273d51",
   "metadata": {},
   "source": [
    "### Visualization of  frquency distribution of values in  'GPU'"
   ]
  },
  {
   "cell_type": "code",
   "execution_count": 51,
   "id": "ea2f1d95",
   "metadata": {},
   "outputs": [
    {
     "data": {
      "text/plain": [
       "<AxesSubplot:>"
      ]
     },
     "execution_count": 51,
     "metadata": {},
     "output_type": "execute_result"
    },
    {
     "data": {
      "image/png": "[encoded data removed]",
      "text/plain": [
       "<Figure size 640x480 with 1 Axes>"
      ]
     },
     "metadata": {},
     "output_type": "display_data"
    }
   ],
   "source": [
    "df['Gpu'].value_counts().plot(kind='bar')"
   ]
  },
  {
   "cell_type": "markdown",
   "id": "bfab4b61",
   "metadata": {},
   "source": [
    "### Average price of values in GPU"
   ]
  },
  {
   "cell_type": "code",
   "execution_count": 52,
   "id": "ddf55663",
   "metadata": {},
   "outputs": [
    {
     "data": {
      "text/plain": [
       "<AxesSubplot:xlabel='Gpu', ylabel='Price'>"
      ]
     },
     "execution_count": 52,
     "metadata": {},
     "output_type": "execute_result"
    },
    {
     "data": {
      "image/png": "[encoded data removed]",
      "text/plain": [
       "<Figure size 640x480 with 1 Axes>"
      ]
     },
     "metadata": {},
     "output_type": "display_data"
    }
   ],
   "source": [
    "sns.barplot(x=df['Gpu'],y=df['Price'])"
   ]
  },
  {
   "cell_type": "markdown",
   "id": "ad2c26e7",
   "metadata": {},
   "source": [
    "# Exploring *OpSys* feature"
   ]
  },
  {
   "cell_type": "markdown",
   "id": "bfc2a922",
   "metadata": {},
   "source": [
    "### Frequency distribution of values in OpSys"
   ]
  },
  {
   "cell_type": "code",
   "execution_count": 53,
   "id": "55906379",
   "metadata": {},
   "outputs": [
    {
     "data": {
      "text/plain": [
       "Windows 10      1047\n",
       "No OS             66\n",
       "Linux             58\n",
       "Windows 7         45\n",
       "Chrome OS         27\n",
       "macOS             13\n",
       "Mac OS X           8\n",
       "Windows 10 S       8\n",
       "Android            2\n",
       "Name: OpSys, dtype: int64"
      ]
     },
     "execution_count": 53,
     "metadata": {},
     "output_type": "execute_result"
    }
   ],
   "source": [
    "df.OpSys.value_counts()"
   ]
  },
  {
   "cell_type": "code",
   "execution_count": 54,
   "id": "38221c77",
   "metadata": {},
   "outputs": [
    {
     "data": {
      "text/plain": [
       "<AxesSubplot:>"
      ]
     },
     "execution_count": 54,
     "metadata": {},
     "output_type": "execute_result"
    },
    {
     "data": {
      "image/png": "[encoded data removed]",
      "text/plain": [
       "<Figure size 640x480 with 1 Axes>"
      ]
     },
     "metadata": {},
     "output_type": "display_data"
    }
   ],
   "source": [
    "### Visualizing Frequnecy distribution of OpSys\n",
    "df.OpSys.value_counts().plot(kind='bar')"
   ]
  },
  {
   "cell_type": "markdown",
   "id": "d4fd6ef5",
   "metadata": {},
   "source": [
    "* In this feature also there are many categories, we can reduce the categories into three categories."
   ]
  },
  {
   "cell_type": "code",
   "execution_count": 55,
   "id": "7f73fb4b",
   "metadata": {},
   "outputs": [],
   "source": [
    "# Creating a function which will extract three three categories\n",
    "def fetch_os(string):\n",
    "    if 'Windows' in string:\n",
    "        return 'Windows OS'\n",
    "    elif 'mac' in string or 'Mac' in string:\n",
    "        return 'Mac OS'\n",
    "    else:\n",
    "        return 'Other OS'"
   ]
  },
  {
   "cell_type": "code",
   "execution_count": 56,
   "id": "21a06c94",
   "metadata": {},
   "outputs": [],
   "source": [
    "df['OpSys']=df['OpSys'].apply(fetch_os)"
   ]
  },
  {
   "cell_type": "markdown",
   "id": "8e77b530",
   "metadata": {},
   "source": [
    "### Visualization of frquency distribution of OpSys"
   ]
  },
  {
   "cell_type": "code",
   "execution_count": 57,
   "id": "a97a1e4e",
   "metadata": {},
   "outputs": [
    {
     "data": {
      "text/plain": [
       "<AxesSubplot:>"
      ]
     },
     "execution_count": 57,
     "metadata": {},
     "output_type": "execute_result"
    },
    {
     "data": {
      "image/png": "[encoded data removed]",
      "text/plain": [
       "<Figure size 640x480 with 1 Axes>"
      ]
     },
     "metadata": {},
     "output_type": "display_data"
    }
   ],
   "source": [
    "df['OpSys'].value_counts().plot(kind='bar')"
   ]
  },
  {
   "cell_type": "markdown",
   "id": "4dd67fa8",
   "metadata": {},
   "source": [
    "* Window OpSys are sold mostly\n",
    "\n",
    "### Visulization of average price of OpSys"
   ]
  },
  {
   "cell_type": "code",
   "execution_count": 58,
   "id": "8f430532",
   "metadata": {},
   "outputs": [
    {
     "data": {
      "text/plain": [
       "<AxesSubplot:xlabel='OpSys', ylabel='Price'>"
      ]
     },
     "execution_count": 58,
     "metadata": {},
     "output_type": "execute_result"
    },
    {
     "data": {
      "image/png": "[encoded data removed]",
      "text/plain": [
       "<Figure size 640x480 with 1 Axes>"
      ]
     },
     "metadata": {},
     "output_type": "display_data"
    }
   ],
   "source": [
    "sns.barplot(x=df['OpSys'].apply(fetch_os),y=df['Price'])"
   ]
  },
  {
   "cell_type": "markdown",
   "id": "1bb7dae9",
   "metadata": {},
   "source": [
    "* Average price of Mac Os are high compare to window and other OS"
   ]
  },
  {
   "cell_type": "markdown",
   "id": "f028c862",
   "metadata": {},
   "source": [
    "# Exploring Numerical Features"
   ]
  },
  {
   "cell_type": "code",
   "execution_count": 59,
   "id": "7a6f57da",
   "metadata": {},
   "outputs": [
    {
     "name": "stdout",
     "output_type": "stream",
     "text": [
      "['Inches', 'Ram', 'Weight', 'Price', 'Touchscreen', 'Ips Panel', 'x_resolution', 'y_resolution', 'SSD', 'HDD', 'Flash Storage', 'Hybrid']\n"
     ]
    }
   ],
   "source": [
    "numerical_features = [feature for feature in df.columns if df[feature].dtype != 'O']\n",
    "print(numerical_features)"
   ]
  },
  {
   "cell_type": "markdown",
   "id": "c7152609",
   "metadata": {},
   "source": [
    "## Correlation of every numerical features with Price feature"
   ]
  },
  {
   "cell_type": "code",
   "execution_count": 60,
   "id": "6915e837",
   "metadata": {},
   "outputs": [
    {
     "data": {
      "text/plain": [
       "Inches           0.066990\n",
       "Ram              0.740106\n",
       "Weight           0.212192\n",
       "Price            1.000000\n",
       "Touchscreen      0.188631\n",
       "Ips Panel        0.250358\n",
       "x_resolution     0.552074\n",
       "y_resolution     0.548111\n",
       "SSD              0.675559\n",
       "HDD             -0.097209\n",
       "Flash Storage   -0.037176\n",
       "Hybrid           0.022533\n",
       "Name: Price, dtype: float64"
      ]
     },
     "execution_count": 60,
     "metadata": {},
     "output_type": "execute_result"
    }
   ],
   "source": [
    "df.corr()['Price'] "
   ]
  },
  {
   "cell_type": "markdown",
   "id": "69b00c01",
   "metadata": {},
   "source": [
    "* x_resolution and y_resolution have multicollinearity\n",
    "* Inches and Hybird are not highly correlated\n",
    "* Ram is highly correlated\n",
    "* HDD & Flash Storage are negatively correlated"
   ]
  },
  {
   "cell_type": "markdown",
   "id": "f9633b44",
   "metadata": {},
   "source": [
    "### Creating a new column PPI(pixel per inches) by combing x_res,y_res and Inches\n",
    "\n",
    "**Formula to find PPI= np.sqrt( x_res ** 2 + y_res ** 2) / inches\n",
    "\n",
    "PPI is a property of laptops that we can use as new feature by combing x_res,y_res and Inches using above formula and store it in new variable PPI"
   ]
  },
  {
   "cell_type": "code",
   "execution_count": 61,
   "id": "514ecb17",
   "metadata": {},
   "outputs": [],
   "source": [
    "df['PPI'] = round(np.sqrt(df['x_resolution']**2 + df['y_resolution']**2)/df['Inches'],2)"
   ]
  },
  {
   "cell_type": "code",
   "execution_count": 62,
   "id": "988c9ca2",
   "metadata": {},
   "outputs": [],
   "source": [
    "### Deleting the x_res,y_res and inches column\n",
    "df.drop(columns=['Inches','x_resolution','y_resolution'],inplace=True)"
   ]
  },
  {
   "cell_type": "code",
   "execution_count": 63,
   "id": "acb2b264",
   "metadata": {},
   "outputs": [
    {
     "data": {
      "text/plain": [
       "0.46955717372834427"
      ]
     },
     "execution_count": 63,
     "metadata": {},
     "output_type": "execute_result"
    }
   ],
   "source": [
    "### correlation of price with PPI\n",
    "df['Price'].corr(df['PPI'])"
   ]
  },
  {
   "cell_type": "markdown",
   "id": "7b28c7fa",
   "metadata": {},
   "source": [
    "### Deleting the column Hybrid and Flash Storage column because it's not highly correlated and also many laptop doesn't have this feature\n",
    "\n",
    "* Not deleteting the HDD  column even tho it's negatively correlated because it might be useful"
   ]
  },
  {
   "cell_type": "code",
   "execution_count": 64,
   "id": "313bae58",
   "metadata": {},
   "outputs": [],
   "source": [
    "df.drop(columns=['Flash Storage','Hybrid'],inplace=True)"
   ]
  },
  {
   "cell_type": "markdown",
   "id": "83a273e0",
   "metadata": {},
   "source": [
    "### updating numerical features"
   ]
  },
  {
   "cell_type": "code",
   "execution_count": 65,
   "id": "c1252f5d",
   "metadata": {},
   "outputs": [],
   "source": [
    "numerical_features = [feature for feature in df.columns if df[feature].dtype !='O']"
   ]
  },
  {
   "cell_type": "code",
   "execution_count": 66,
   "id": "679d712d",
   "metadata": {},
   "outputs": [
    {
     "data": {
      "text/plain": [
       "['Ram', 'Weight', 'Price', 'Touchscreen', 'Ips Panel', 'SSD', 'HDD', 'PPI']"
      ]
     },
     "execution_count": 66,
     "metadata": {},
     "output_type": "execute_result"
    }
   ],
   "source": [
    "numerical_features"
   ]
  },
  {
   "cell_type": "markdown",
   "id": "f3292da8",
   "metadata": {},
   "source": [
    "## Exploring Ram variable"
   ]
  },
  {
   "cell_type": "markdown",
   "id": "b9671c7a",
   "metadata": {},
   "source": [
    "## Visualization of frequency distribution of values in Ram variable"
   ]
  },
  {
   "cell_type": "code",
   "execution_count": 67,
   "id": "dc8890d6",
   "metadata": {},
   "outputs": [
    {
     "data": {
      "text/plain": [
       "<AxesSubplot:>"
      ]
     },
     "execution_count": 67,
     "metadata": {},
     "output_type": "execute_result"
    },
    {
     "data": {
      "image/png": "[encoded data removed]",
      "text/plain": [
       "<Figure size 640x480 with 1 Axes>"
      ]
     },
     "metadata": {},
     "output_type": "display_data"
    }
   ],
   "source": [
    "df['Ram'].value_counts().plot(kind='bar')"
   ]
  },
  {
   "cell_type": "markdown",
   "id": "20fa9305",
   "metadata": {},
   "source": [
    "* 8 gb ram laptops units are sold mostly\n",
    "\n",
    "### Visualization of average  price of diffrent ram values"
   ]
  },
  {
   "cell_type": "code",
   "execution_count": 68,
   "id": "457dc729",
   "metadata": {},
   "outputs": [
    {
     "data": {
      "text/plain": [
       "<AxesSubplot:xlabel='Ram', ylabel='Price'>"
      ]
     },
     "execution_count": 68,
     "metadata": {},
     "output_type": "execute_result"
    },
    {
     "data": {
      "image/png": "[encoded data removed]",
      "text/plain": [
       "<Figure size 640x480 with 1 Axes>"
      ]
     },
     "metadata": {},
     "output_type": "display_data"
    }
   ],
   "source": [
    "sns.barplot(x=df['Ram'],y=df['Price'])"
   ]
  },
  {
   "cell_type": "markdown",
   "id": "9f2bf466",
   "metadata": {},
   "source": [
    "* When ram size increses, price increses\n",
    "* Price and ram have linear relationship"
   ]
  },
  {
   "cell_type": "markdown",
   "id": "30a8b86b",
   "metadata": {},
   "source": [
    "## Exploring *Weight* Feature"
   ]
  },
  {
   "cell_type": "code",
   "execution_count": 69,
   "id": "9c327173",
   "metadata": {},
   "outputs": [
    {
     "data": {
      "text/plain": [
       "<AxesSubplot:xlabel='Weight', ylabel='Density'>"
      ]
     },
     "execution_count": 69,
     "metadata": {},
     "output_type": "execute_result"
    },
    {
     "data": {
      "image/png": "[encoded data removed]",
      "text/plain": [
       "<Figure size 640x480 with 1 Axes>"
      ]
     },
     "metadata": {},
     "output_type": "display_data"
    }
   ],
   "source": [
    "sns.distplot(df['Weight'])"
   ]
  },
  {
   "cell_type": "code",
   "execution_count": 70,
   "id": "779aba97",
   "metadata": {},
   "outputs": [
    {
     "data": {
      "text/plain": [
       "Index(['Company', 'TypeName', 'Ram', 'Gpu', 'OpSys', 'Weight', 'Price',\n",
       "       'Touchscreen', 'Ips Panel', 'Cpu_Brand', 'SSD', 'HDD', 'PPI'],\n",
       "      dtype='object')"
      ]
     },
     "execution_count": 70,
     "metadata": {},
     "output_type": "execute_result"
    }
   ],
   "source": [
    "df.columns"
   ]
  },
  {
   "cell_type": "code",
   "execution_count": 71,
   "id": "9aebd39c",
   "metadata": {},
   "outputs": [],
   "source": [
    "df=df.loc[:,['Company', 'TypeName', 'Ram', 'Gpu', 'OpSys', 'Weight',\n",
    "       'Touchscreen', 'Ips Panel', 'Cpu_Brand', 'SSD', 'HDD', 'PPI','Price']]"
   ]
  },
  {
   "cell_type": "markdown",
   "id": "a56426f9",
   "metadata": {},
   "source": [
    "### Storing the cleaned data in new csv so if somehing happend,we still can have our data saved for our model"
   ]
  },
  {
   "cell_type": "code",
   "execution_count": 72,
   "id": "344bb8b9",
   "metadata": {},
   "outputs": [],
   "source": [
    "df.to_csv(\"Cleaned_Laptop_Data.csv\")"
   ]
  },
  {
   "cell_type": "markdown",
   "id": "9e25087f",
   "metadata": {},
   "source": [
    "# Independent variables"
   ]
  },
  {
   "cell_type": "code",
   "execution_count": 73,
   "id": "cd76c4dd",
   "metadata": {},
   "outputs": [],
   "source": [
    "X = df.iloc[:,:-1]"
   ]
  },
  {
   "cell_type": "markdown",
   "id": "5ce8190a",
   "metadata": {},
   "source": [
    "# Dependent Variable\n",
    "\n",
    "* Since the price distribtion is skewed,we will take log of every value in price so that our model will works well and which predicted the output, we will convert it back to normal price using exp"
   ]
  },
  {
   "cell_type": "code",
   "execution_count": 74,
   "id": "6eebfb2f",
   "metadata": {},
   "outputs": [],
   "source": [
    "y = round(np.log(df.iloc[:,-1]),3)"
   ]
  },
  {
   "cell_type": "markdown",
   "id": "7864cb59",
   "metadata": {},
   "source": [
    "### Visulization of depenent variable"
   ]
  },
  {
   "cell_type": "code",
   "execution_count": 75,
   "id": "5a7dc4d6",
   "metadata": {},
   "outputs": [
    {
     "data": {
      "text/plain": [
       "<seaborn.axisgrid.FacetGrid at 0x23da07bc3a0>"
      ]
     },
     "execution_count": 75,
     "metadata": {},
     "output_type": "execute_result"
    },
    {
     "data": {
      "image/png": "[encoded data removed]",
      "text/plain": [
       "<Figure size 500x500 with 1 Axes>"
      ]
     },
     "metadata": {},
     "output_type": "display_data"
    }
   ],
   "source": [
    "sns.displot(y,kde=True)"
   ]
  },
  {
   "cell_type": "code",
   "execution_count": 76,
   "id": "e16949b7",
   "metadata": {},
   "outputs": [],
   "source": [
    "# Importing required libraries for modelelling\n",
    "from sklearn.preprocessing import LabelEncoder,OrdinalEncoder,OneHotEncoder\n",
    "from sklearn.compose import ColumnTransformer\n",
    "from sklearn.model_selection import GridSearchCV,cross_val_score,train_test_split\n",
    "from sklearn.linear_model import ElasticNet,LinearRegression,Ridge,Lasso\n",
    "from sklearn.pipeline import Pipeline,make_pipeline\n",
    "from sklearn.metrics import r2_score"
   ]
  },
  {
   "cell_type": "code",
   "execution_count": 77,
   "id": "5bf7059d",
   "metadata": {},
   "outputs": [],
   "source": [
    "# Train test split\n",
    "X_train,X_test,y_train,y_test = train_test_split(X,y,test_size=0.2)"
   ]
  },
  {
   "cell_type": "markdown",
   "id": "3e99ecfd",
   "metadata": {},
   "source": [
    "# Linear Regression"
   ]
  },
  {
   "cell_type": "code",
   "execution_count": 78,
   "id": "c58dc159",
   "metadata": {},
   "outputs": [],
   "source": [
    "# Endcoding categorical features\n",
    "# One Hot Encdoing(Nominal Encoding)\n",
    "transformer1 = ColumnTransformer(transformers=[('ohe',OneHotEncoder(drop='first',sparse=False),[0,1,3,4,8])],remainder='passthrough')"
   ]
  },
  {
   "cell_type": "code",
   "execution_count": 79,
   "id": "e4ec382a",
   "metadata": {},
   "outputs": [],
   "source": [
    "# Linear Model\n",
    "transformer2 = LinearRegression()"
   ]
  },
  {
   "cell_type": "code",
   "execution_count": 80,
   "id": "f8d1ccf9",
   "metadata": {},
   "outputs": [],
   "source": [
    "# Creating Pipeline\n",
    "pipe = Pipeline([('transformer1',transformer1),('transformer2',transformer2)])"
   ]
  },
  {
   "cell_type": "code",
   "execution_count": 81,
   "id": "0acda265",
   "metadata": {},
   "outputs": [
    {
     "data": {
      "text/plain": [
       "Pipeline(steps=[('transformer1',\n",
       "                 ColumnTransformer(remainder='passthrough',\n",
       "                                   transformers=[('ohe',\n",
       "                                                  OneHotEncoder(drop='first',\n",
       "                                                                sparse=False),\n",
       "                                                  [0, 1, 3, 4, 8])])),\n",
       "                ('transformer2', LinearRegression())])"
      ]
     },
     "execution_count": 81,
     "metadata": {},
     "output_type": "execute_result"
    }
   ],
   "source": [
    "pipe.fit(X_train,y_train)"
   ]
  },
  {
   "cell_type": "code",
   "execution_count": 82,
   "id": "c125a452",
   "metadata": {},
   "outputs": [],
   "source": [
    "y_pred = pipe.predict(X_test)"
   ]
  },
  {
   "cell_type": "code",
   "execution_count": 83,
   "id": "9b22b50f",
   "metadata": {},
   "outputs": [
    {
     "data": {
      "text/plain": [
       "0.8314646733982451"
      ]
     },
     "execution_count": 83,
     "metadata": {},
     "output_type": "execute_result"
    }
   ],
   "source": [
    "# Checking r2 score\n",
    "r2_score(y_test,y_pred)"
   ]
  },
  {
   "cell_type": "markdown",
   "id": "b1a49098",
   "metadata": {},
   "source": [
    "# Ridge Regression"
   ]
  },
  {
   "cell_type": "code",
   "execution_count": 84,
   "id": "de651c26",
   "metadata": {},
   "outputs": [],
   "source": [
    "transformer1 = ColumnTransformer(transformers=[('ohe',OneHotEncoder(drop='first',sparse=False),[0,1,3,4,8])],remainder='passthrough')"
   ]
  },
  {
   "cell_type": "code",
   "execution_count": 85,
   "id": "c6303f8a",
   "metadata": {},
   "outputs": [],
   "source": [
    "transformer2 = Ridge()"
   ]
  },
  {
   "cell_type": "code",
   "execution_count": 86,
   "id": "179c2a0c",
   "metadata": {},
   "outputs": [
    {
     "data": {
      "text/plain": [
       "0.8311018650951841"
      ]
     },
     "execution_count": 86,
     "metadata": {},
     "output_type": "execute_result"
    }
   ],
   "source": [
    "pipe = Pipeline([('transformer1',transformer1),('transformer2',transformer2)])\n",
    "pipe.fit(X_train,y_train)\n",
    "y_pred = pipe.predict(X_test)\n",
    "r2_score(y_test,y_pred)"
   ]
  },
  {
   "cell_type": "markdown",
   "id": "5ed5bf8d",
   "metadata": {},
   "source": [
    "# LASSO REGRESSION"
   ]
  },
  {
   "cell_type": "code",
   "execution_count": 87,
   "id": "fd8a7ab0",
   "metadata": {},
   "outputs": [
    {
     "data": {
      "text/plain": [
       "Pipeline(steps=[('transformer1',\n",
       "                 ColumnTransformer(remainder='passthrough',\n",
       "                                   transformers=[('ohe',\n",
       "                                                  OneHotEncoder(drop='first',\n",
       "                                                                sparse=False),\n",
       "                                                  [0, 1, 3, 4, 8])])),\n",
       "                ('transformer2', Lasso(alpha=0.001))])"
      ]
     },
     "execution_count": 87,
     "metadata": {},
     "output_type": "execute_result"
    }
   ],
   "source": [
    "transformer1 = ColumnTransformer(transformers=[('ohe',OneHotEncoder(drop='first',sparse=False),[0,1,3,4,8])],remainder='passthrough')\n",
    "transformer2 = Lasso(0.001)\n",
    "pipe = Pipeline([('transformer1',transformer1),('transformer2',transformer2)])\n",
    "pipe.fit(X_train,y_train)"
   ]
  },
  {
   "cell_type": "code",
   "execution_count": 88,
   "id": "29944a47",
   "metadata": {},
   "outputs": [
    {
     "data": {
      "text/plain": [
       "0.829348223166453"
      ]
     },
     "execution_count": 88,
     "metadata": {},
     "output_type": "execute_result"
    }
   ],
   "source": [
    "y_pred = pipe.predict(X_test)\n",
    "r2_score(y_test,y_pred)"
   ]
  },
  {
   "cell_type": "markdown",
   "id": "7817d7e2",
   "metadata": {},
   "source": [
    "# ElasticNet"
   ]
  },
  {
   "cell_type": "code",
   "execution_count": 89,
   "id": "eefc2546",
   "metadata": {},
   "outputs": [
    {
     "data": {
      "text/plain": [
       "0.8303979200422552"
      ]
     },
     "execution_count": 89,
     "metadata": {},
     "output_type": "execute_result"
    }
   ],
   "source": [
    "transformer1 = ColumnTransformer(transformers=[('ohe',OneHotEncoder(drop='first',sparse=False),[0,1,3,4,8])],remainder='passthrough')\n",
    "transformer2 = ElasticNet(alpha=0.001)\n",
    "pipe = Pipeline([('transformer1',transformer1),('transformer2',transformer2)])\n",
    "pipe.fit(X_train,y_train)\n",
    "y_pred = pipe.predict(X_test)\n",
    "r2_score(y_test,y_pred)"
   ]
  },
  {
   "cell_type": "markdown",
   "id": "b3b55def",
   "metadata": {},
   "source": [
    "# Decision Tree Regressor"
   ]
  },
  {
   "cell_type": "code",
   "execution_count": 90,
   "id": "d1c14f1a",
   "metadata": {},
   "outputs": [],
   "source": [
    "from sklearn.tree import DecisionTreeRegressor"
   ]
  },
  {
   "cell_type": "code",
   "execution_count": 91,
   "id": "d8a830b5",
   "metadata": {},
   "outputs": [
    {
     "data": {
      "text/plain": [
       "0.7663545538611223"
      ]
     },
     "execution_count": 91,
     "metadata": {},
     "output_type": "execute_result"
    }
   ],
   "source": [
    "transformer1 = ColumnTransformer(transformers=[('ohe',OneHotEncoder(drop='first',sparse=False),[0,1,3,4,8])],remainder='passthrough')\n",
    "transformer2 = DecisionTreeRegressor()\n",
    "pipe = Pipeline([('transformer1',transformer1),('transformer2',transformer2)])\n",
    "pipe.fit(X_train,y_train)\n",
    "y_pred = pipe.predict(X_test)\n",
    "r2_score(y_test,y_pred)"
   ]
  },
  {
   "cell_type": "markdown",
   "id": "dc69f6d6",
   "metadata": {},
   "source": [
    "# Random Forest Classifier"
   ]
  },
  {
   "cell_type": "code",
   "execution_count": 92,
   "id": "971b325d",
   "metadata": {},
   "outputs": [
    {
     "data": {
      "text/plain": [
       "0.8598446706833138"
      ]
     },
     "execution_count": 92,
     "metadata": {},
     "output_type": "execute_result"
    }
   ],
   "source": [
    "from sklearn.ensemble import RandomForestRegressor\n",
    "transformer1 = ColumnTransformer(transformers=[('ohe',OneHotEncoder(drop='first',sparse=False),[0,1,3,4,8])],remainder='passthrough')\n",
    "transformer2 = RandomForestRegressor()\n",
    "pipe = Pipeline([('transformer1',transformer1),('transformer2',transformer2)])\n",
    "pipe.fit(X_train,y_train)\n",
    "y_pred = pipe.predict(X_test)\n",
    "r2_score(y_test,y_pred)"
   ]
  }
 ],
 "metadata": {
  "kernelspec": {
   "display_name": "Python 3 (ipykernel)",
   "language": "python",
   "name": "python3"
  },
  "language_info": {
   "codemirror_mode": {
    "name": "ipython",
    "version": 3
   },
   "file_extension": ".py",
   "mimetype": "text/x-python",
   "name": "python",
   "nbconvert_exporter": "python",
   "pygments_lexer": "ipython3",
   "version": "3.9.13"
  }
 },
 "nbformat": 4,
 "nbformat_minor": 5
}
